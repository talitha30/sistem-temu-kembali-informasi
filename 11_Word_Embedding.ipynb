{
  "cells": [
    {
      "cell_type": "markdown",
      "metadata": {
        "id": "_igY1fNYgl5g"
      },
      "source": [
        "<img src=\"https://2.bp.blogspot.com/-066qpJs0Ttc/WiYPXGNYEYI/AAAAAAAAFu8/XbOaf7DqfDMM9truu3DkrkIGfRgP4zBzgCLcBGAs/s1600/udinus.jpg\"  width=\"200\">\n",
        "\n",
        "# AMS - Word Embedding\n",
        "\n",
        "oleh: Dr. Eng. Farrikh Alzami M.Kom; Abu Salam, M.Kom\n",
        "\n",
        "disini kita akan belajar menggunakan modul:\n",
        "- Apa itu Word Embedding"
      ]
    },
    {
      "cell_type": "markdown",
      "metadata": {
        "id": "sHFoXgG0gwLj"
      },
      "source": [
        "## Apa itu Word Embedding (Penyematan Kata)\n",
        "\n",
        "Dalam istilah yang sangat sederhana, Penyematan Kata adalah teks yang diubah menjadi angka dan mungkin ada representasi numerik yang berbeda dari teks yang sama. Tapi sebelum kita masuk ke detail Word Embeddings, pertanyaan berikut harus ditanyakan – Mengapa kita membutuhkan Word Embeddings?\n",
        "\n",
        "Ternyata, banyak algoritma Pembelajaran Mesin dan hampir semua Arsitektur Pembelajaran Mendalam tidak mampu memproses string atau teks biasa dalam bentuk mentahnya. Mereka membutuhkan angka sebagai input untuk melakukan pekerjaan apa pun, baik itu klasifikasi, regresi, dll. dalam arti luas. Dan dengan banyaknya data yang ada dalam format teks, sangat penting untuk mengekstrak pengetahuan darinya dan membangun aplikasi. Beberapa aplikasi aplikasi teks dunia nyata adalah – analisis sentimen ulasan oleh Amazon dll., klasifikasi dokumen atau berita atau pengelompokan oleh Google, dll.\n",
        "\n",
        "Sekarang mari kita definisikan Word Embeddings secara formal. Format Penyematan Kata umumnya mencoba memetakan kata menggunakan kamus ke vektor. Mari kita pecahkan kalimat ini menjadi detail yang lebih baik untuk mendapatkan gambaran yang jelas.\n",
        "\n",
        "sentence= `Word Embeddings are Word converted into numbers`\n",
        "\n",
        "maka\n",
        "\n",
        "dictionary = `[‘Word’,’Embeddings’,’are’,’Converted’,’into’,’numbers’]`\n",
        "\n",
        "Representasi vektor dari sebuah kata mungkin merupakan vektor one-hot encoding di mana 1 mewakili posisi di mana kata itu ada dan 0 di tempat lain.\n",
        "\n",
        "Representasi vektor '**numbers**' dalam format ini menurut kamus di atas adalah\n",
        "\n",
        "[‘Word’,’Embeddings’,’are’,’Converted’,’into’,**’numbers’**]`\n",
        "\n",
        "[0,0,0,0,0,1]\n",
        "\n",
        "Representasi Vector '**Converted**' adalah\n",
        "\n",
        "[‘Word’,’Embeddings’,’are’,’**Converted**’,’into’,’numbers’]`\n",
        "\n",
        "[0,0,0,1,0,0].\n",
        "\n"
      ]
    },
    {
      "cell_type": "markdown",
      "metadata": {
        "id": "LS1N1xxsiAvF"
      },
      "source": [
        "## Type word Embedding\n",
        "\n",
        "Berbagai jenis penyisipan kata dapat secara luas diklasifikasikan ke dalam dua kategori-\n",
        "\n",
        "- Penyematan berbasis frekuensi (Frequency based Embedding)\n",
        "- Penyematan berdasarkan prediksi (Prediction based Embedding)\n",
        "\n",
        "Mari kita coba memahami masing-masing metode ini secara rinci."
      ]
    },
    {
      "cell_type": "markdown",
      "metadata": {
        "id": "uyXYXGqoiN1W"
      },
      "source": [
        "### Frequency based Embedding\n",
        "\n",
        "- Count Vector\n",
        "- TF-IDF Vector\n",
        "- Co-Occurrence Vector"
      ]
    },
    {
      "cell_type": "markdown",
      "metadata": {
        "id": "A2vlH2gQiim2"
      },
      "source": [
        "#### Count Vector / Bag of Words (BoW)\n",
        "lihat dokumen Corpus $C$ dari $D$\n",
        "\n",
        "${d1,d2…..dD}$\n",
        "\n",
        "dan $N$ token unik yang diekstraksi dari corpus $C$.\n",
        "\n",
        "Token $N$ akan membentuk kamus dan ukuran hitungan vektor $M$ akan diberikan oleh $D X N$. Setiap baris dalam matriks $M$ berisi frekuensi token dalam dokumen $D(i)$.\n",
        "\n",
        "contoh:\n",
        "\n",
        "D1: He is a lazy boy. She is also lazy.\n",
        "\n",
        "D2: Neeraj is a lazy person.\n",
        "\n",
        "dictionary yang terbuat:\n",
        "\n",
        "[‘He’,’She’,’lazy’,’boy’,’Neeraj’,’person’]\n",
        "\n",
        "maka $D=2$ (ada 2 dokumen) dan $N=6$ (ada 6 isian di list)\n",
        "\n",
        "matrik $M$ dengan ukuran $2X6$ dapat ditulis sebagai berikut:\n",
        "\n",
        "He\tShe\tlazy\tboy\tNeeraj\tperson\n",
        "\n",
        "|D1|\t1\t|1\t|2\t|1\t|0\t|0|\n",
        "\n",
        "\n",
        "|D2|\t0\t|0\t|1\t|0\t|1\t|1|"
      ]
    },
    {
      "cell_type": "markdown",
      "metadata": {
        "id": "cD_c4j4hkLLx"
      },
      "source": [
        "Sekarang, kolom juga dapat dipahami sebagai word vector / vektor kata untuk kata yang sesuai dalam matriks M. Misalnya, vektor kata untuk 'lazy' dalam matriks di atas adalah [2,1] dan seterusnya. Di sini, baris sesuai dengan dokumen dalam korpus dan kolom sesuai dengan token dalam kamus. Baris kedua pada matriks di atas dapat dibaca sebagai – D2 berisi 'lazy': sekali, 'Neeraj': sekali dan 'person' sekali."
      ]
    },
    {
      "cell_type": "markdown",
      "metadata": {
        "id": "vZw-2SQykWOe"
      },
      "source": [
        "Sekarang mungkin ada beberapa variasi saat menyiapkan matriks M di atas. Variasi umumnya akan di-\n",
        "1. Cara kamus disiapkan.\n",
        "Mengapa? Karena dalam aplikasi dunia nyata kita mungkin memiliki corpus yang berisi jutaan dokumen. Dan dengan jutaan dokumen, Kita dapat mengekstrak ratusan juta kata unik. Jadi pada dasarnya, matriks yang akan disiapkan seperti di atas akan sangat jarang dan tidak efisien untuk perhitungan apa pun. Jadi alternatif untuk menggunakan setiap kata unik sebagai elemen kamus adalah dengan memilih 10.000 kata teratas berdasarkan frekuensi dan kemudian menyiapkan kamus.\n",
        "2. cara menghitung diambil untuk setiap kata.\n",
        "Kita dapat mengambil frekuensi (berapa kali sebuah kata muncul dalam dokumen) atau kehadiran (apakah kata tersebut muncul dalam dokumen?) sebagai entri dalam matriks hitungan M. Tetapi umumnya, metode frekuensi lebih disukai daripada yang terakhir.\n",
        "\n",
        "contoh adalah sebagai berikut:\n",
        "\n",
        "<img src='https://cdn.analyticsvidhya.com/wp-content/uploads/2017/06/04164920/count-vector.png'>"
      ]
    },
    {
      "cell_type": "markdown",
      "metadata": {
        "id": "8b8g5cLVlWuF"
      },
      "source": [
        "#### contoh count vector"
      ]
    },
    {
      "cell_type": "code",
      "execution_count": 2,
      "metadata": {
        "colab": {
          "base_uri": "https://localhost:8080/",
          "height": 112
        },
        "id": "Itb5vmp0ihg4",
        "outputId": "9facb1e3-ad90-41d9-ef58-062d1e0280f6"
      },
      "outputs": [
        {
          "output_type": "execute_result",
          "data": {
            "text/plain": [
              "   also  boy  he  is  lazy  neeraj  person  she\n",
              "0     1    1   1   2     2       0       0    1\n",
              "1     0    0   0   1     1       1       1    0"
            ],
            "text/html": [
              "\n",
              "  <div id=\"df-f79dc918-cd15-4caf-b5d4-3d9f1572821a\" class=\"colab-df-container\">\n",
              "    <div>\n",
              "<style scoped>\n",
              "    .dataframe tbody tr th:only-of-type {\n",
              "        vertical-align: middle;\n",
              "    }\n",
              "\n",
              "    .dataframe tbody tr th {\n",
              "        vertical-align: top;\n",
              "    }\n",
              "\n",
              "    .dataframe thead th {\n",
              "        text-align: right;\n",
              "    }\n",
              "</style>\n",
              "<table border=\"1\" class=\"dataframe\">\n",
              "  <thead>\n",
              "    <tr style=\"text-align: right;\">\n",
              "      <th></th>\n",
              "      <th>also</th>\n",
              "      <th>boy</th>\n",
              "      <th>he</th>\n",
              "      <th>is</th>\n",
              "      <th>lazy</th>\n",
              "      <th>neeraj</th>\n",
              "      <th>person</th>\n",
              "      <th>she</th>\n",
              "    </tr>\n",
              "  </thead>\n",
              "  <tbody>\n",
              "    <tr>\n",
              "      <th>0</th>\n",
              "      <td>1</td>\n",
              "      <td>1</td>\n",
              "      <td>1</td>\n",
              "      <td>2</td>\n",
              "      <td>2</td>\n",
              "      <td>0</td>\n",
              "      <td>0</td>\n",
              "      <td>1</td>\n",
              "    </tr>\n",
              "    <tr>\n",
              "      <th>1</th>\n",
              "      <td>0</td>\n",
              "      <td>0</td>\n",
              "      <td>0</td>\n",
              "      <td>1</td>\n",
              "      <td>1</td>\n",
              "      <td>1</td>\n",
              "      <td>1</td>\n",
              "      <td>0</td>\n",
              "    </tr>\n",
              "  </tbody>\n",
              "</table>\n",
              "</div>\n",
              "    <div class=\"colab-df-buttons\">\n",
              "\n",
              "  <div class=\"colab-df-container\">\n",
              "    <button class=\"colab-df-convert\" onclick=\"convertToInteractive('df-f79dc918-cd15-4caf-b5d4-3d9f1572821a')\"\n",
              "            title=\"Convert this dataframe to an interactive table.\"\n",
              "            style=\"display:none;\">\n",
              "\n",
              "  <svg xmlns=\"http://www.w3.org/2000/svg\" height=\"24px\" viewBox=\"0 -960 960 960\">\n",
              "    <path d=\"M120-120v-720h720v720H120Zm60-500h600v-160H180v160Zm220 220h160v-160H400v160Zm0 220h160v-160H400v160ZM180-400h160v-160H180v160Zm440 0h160v-160H620v160ZM180-180h160v-160H180v160Zm440 0h160v-160H620v160Z\"/>\n",
              "  </svg>\n",
              "    </button>\n",
              "\n",
              "  <style>\n",
              "    .colab-df-container {\n",
              "      display:flex;\n",
              "      gap: 12px;\n",
              "    }\n",
              "\n",
              "    .colab-df-convert {\n",
              "      background-color: #E8F0FE;\n",
              "      border: none;\n",
              "      border-radius: 50%;\n",
              "      cursor: pointer;\n",
              "      display: none;\n",
              "      fill: #1967D2;\n",
              "      height: 32px;\n",
              "      padding: 0 0 0 0;\n",
              "      width: 32px;\n",
              "    }\n",
              "\n",
              "    .colab-df-convert:hover {\n",
              "      background-color: #E2EBFA;\n",
              "      box-shadow: 0px 1px 2px rgba(60, 64, 67, 0.3), 0px 1px 3px 1px rgba(60, 64, 67, 0.15);\n",
              "      fill: #174EA6;\n",
              "    }\n",
              "\n",
              "    .colab-df-buttons div {\n",
              "      margin-bottom: 4px;\n",
              "    }\n",
              "\n",
              "    [theme=dark] .colab-df-convert {\n",
              "      background-color: #3B4455;\n",
              "      fill: #D2E3FC;\n",
              "    }\n",
              "\n",
              "    [theme=dark] .colab-df-convert:hover {\n",
              "      background-color: #434B5C;\n",
              "      box-shadow: 0px 1px 3px 1px rgba(0, 0, 0, 0.15);\n",
              "      filter: drop-shadow(0px 1px 2px rgba(0, 0, 0, 0.3));\n",
              "      fill: #FFFFFF;\n",
              "    }\n",
              "  </style>\n",
              "\n",
              "    <script>\n",
              "      const buttonEl =\n",
              "        document.querySelector('#df-f79dc918-cd15-4caf-b5d4-3d9f1572821a button.colab-df-convert');\n",
              "      buttonEl.style.display =\n",
              "        google.colab.kernel.accessAllowed ? 'block' : 'none';\n",
              "\n",
              "      async function convertToInteractive(key) {\n",
              "        const element = document.querySelector('#df-f79dc918-cd15-4caf-b5d4-3d9f1572821a');\n",
              "        const dataTable =\n",
              "          await google.colab.kernel.invokeFunction('convertToInteractive',\n",
              "                                                    [key], {});\n",
              "        if (!dataTable) return;\n",
              "\n",
              "        const docLinkHtml = 'Like what you see? Visit the ' +\n",
              "          '<a target=\"_blank\" href=https://colab.research.google.com/notebooks/data_table.ipynb>data table notebook</a>'\n",
              "          + ' to learn more about interactive tables.';\n",
              "        element.innerHTML = '';\n",
              "        dataTable['output_type'] = 'display_data';\n",
              "        await google.colab.output.renderOutput(dataTable, element);\n",
              "        const docLink = document.createElement('div');\n",
              "        docLink.innerHTML = docLinkHtml;\n",
              "        element.appendChild(docLink);\n",
              "      }\n",
              "    </script>\n",
              "  </div>\n",
              "\n",
              "\n",
              "<div id=\"df-e151bdc4-5bf7-43fb-b4e7-85b32e91835a\">\n",
              "  <button class=\"colab-df-quickchart\" onclick=\"quickchart('df-e151bdc4-5bf7-43fb-b4e7-85b32e91835a')\"\n",
              "            title=\"Suggest charts.\"\n",
              "            style=\"display:none;\">\n",
              "\n",
              "<svg xmlns=\"http://www.w3.org/2000/svg\" height=\"24px\"viewBox=\"0 0 24 24\"\n",
              "     width=\"24px\">\n",
              "    <g>\n",
              "        <path d=\"M19 3H5c-1.1 0-2 .9-2 2v14c0 1.1.9 2 2 2h14c1.1 0 2-.9 2-2V5c0-1.1-.9-2-2-2zM9 17H7v-7h2v7zm4 0h-2V7h2v10zm4 0h-2v-4h2v4z\"/>\n",
              "    </g>\n",
              "</svg>\n",
              "  </button>\n",
              "\n",
              "<style>\n",
              "  .colab-df-quickchart {\n",
              "      --bg-color: #E8F0FE;\n",
              "      --fill-color: #1967D2;\n",
              "      --hover-bg-color: #E2EBFA;\n",
              "      --hover-fill-color: #174EA6;\n",
              "      --disabled-fill-color: #AAA;\n",
              "      --disabled-bg-color: #DDD;\n",
              "  }\n",
              "\n",
              "  [theme=dark] .colab-df-quickchart {\n",
              "      --bg-color: #3B4455;\n",
              "      --fill-color: #D2E3FC;\n",
              "      --hover-bg-color: #434B5C;\n",
              "      --hover-fill-color: #FFFFFF;\n",
              "      --disabled-bg-color: #3B4455;\n",
              "      --disabled-fill-color: #666;\n",
              "  }\n",
              "\n",
              "  .colab-df-quickchart {\n",
              "    background-color: var(--bg-color);\n",
              "    border: none;\n",
              "    border-radius: 50%;\n",
              "    cursor: pointer;\n",
              "    display: none;\n",
              "    fill: var(--fill-color);\n",
              "    height: 32px;\n",
              "    padding: 0;\n",
              "    width: 32px;\n",
              "  }\n",
              "\n",
              "  .colab-df-quickchart:hover {\n",
              "    background-color: var(--hover-bg-color);\n",
              "    box-shadow: 0 1px 2px rgba(60, 64, 67, 0.3), 0 1px 3px 1px rgba(60, 64, 67, 0.15);\n",
              "    fill: var(--button-hover-fill-color);\n",
              "  }\n",
              "\n",
              "  .colab-df-quickchart-complete:disabled,\n",
              "  .colab-df-quickchart-complete:disabled:hover {\n",
              "    background-color: var(--disabled-bg-color);\n",
              "    fill: var(--disabled-fill-color);\n",
              "    box-shadow: none;\n",
              "  }\n",
              "\n",
              "  .colab-df-spinner {\n",
              "    border: 2px solid var(--fill-color);\n",
              "    border-color: transparent;\n",
              "    border-bottom-color: var(--fill-color);\n",
              "    animation:\n",
              "      spin 1s steps(1) infinite;\n",
              "  }\n",
              "\n",
              "  @keyframes spin {\n",
              "    0% {\n",
              "      border-color: transparent;\n",
              "      border-bottom-color: var(--fill-color);\n",
              "      border-left-color: var(--fill-color);\n",
              "    }\n",
              "    20% {\n",
              "      border-color: transparent;\n",
              "      border-left-color: var(--fill-color);\n",
              "      border-top-color: var(--fill-color);\n",
              "    }\n",
              "    30% {\n",
              "      border-color: transparent;\n",
              "      border-left-color: var(--fill-color);\n",
              "      border-top-color: var(--fill-color);\n",
              "      border-right-color: var(--fill-color);\n",
              "    }\n",
              "    40% {\n",
              "      border-color: transparent;\n",
              "      border-right-color: var(--fill-color);\n",
              "      border-top-color: var(--fill-color);\n",
              "    }\n",
              "    60% {\n",
              "      border-color: transparent;\n",
              "      border-right-color: var(--fill-color);\n",
              "    }\n",
              "    80% {\n",
              "      border-color: transparent;\n",
              "      border-right-color: var(--fill-color);\n",
              "      border-bottom-color: var(--fill-color);\n",
              "    }\n",
              "    90% {\n",
              "      border-color: transparent;\n",
              "      border-bottom-color: var(--fill-color);\n",
              "    }\n",
              "  }\n",
              "</style>\n",
              "\n",
              "  <script>\n",
              "    async function quickchart(key) {\n",
              "      const quickchartButtonEl =\n",
              "        document.querySelector('#' + key + ' button');\n",
              "      quickchartButtonEl.disabled = true;  // To prevent multiple clicks.\n",
              "      quickchartButtonEl.classList.add('colab-df-spinner');\n",
              "      try {\n",
              "        const charts = await google.colab.kernel.invokeFunction(\n",
              "            'suggestCharts', [key], {});\n",
              "      } catch (error) {\n",
              "        console.error('Error during call to suggestCharts:', error);\n",
              "      }\n",
              "      quickchartButtonEl.classList.remove('colab-df-spinner');\n",
              "      quickchartButtonEl.classList.add('colab-df-quickchart-complete');\n",
              "    }\n",
              "    (() => {\n",
              "      let quickchartButtonEl =\n",
              "        document.querySelector('#df-e151bdc4-5bf7-43fb-b4e7-85b32e91835a button');\n",
              "      quickchartButtonEl.style.display =\n",
              "        google.colab.kernel.accessAllowed ? 'block' : 'none';\n",
              "    })();\n",
              "  </script>\n",
              "</div>\n",
              "    </div>\n",
              "  </div>\n"
            ]
          },
          "metadata": {},
          "execution_count": 2
        }
      ],
      "source": [
        "from sklearn.feature_extraction.text import CountVectorizer\n",
        "import pandas as pd\n",
        "\n",
        "doc1 = \"He is a lazy boy. She is also lazy.\"\n",
        "doc2 = \"Neeraj is a lazy person.\"\n",
        "\n",
        "bow_vectorizer = CountVectorizer()\n",
        "\n",
        "X = bow_vectorizer.fit_transform([doc1,doc2])\n",
        "\n",
        "bow_df = pd.DataFrame(X.toarray(),columns=bow_vectorizer.get_feature_names_out())\n",
        "bow_df.head()"
      ]
    },
    {
      "cell_type": "markdown",
      "metadata": {
        "id": "wbora8Ymlgy1"
      },
      "source": [
        "### Prediction based Embedding"
      ]
    },
    {
      "cell_type": "markdown",
      "metadata": {
        "id": "5Gt4rEMyAfPe"
      },
      "source": [
        "#### Word2Vec\n",
        "\n",
        "##### Apa itu Word2Vec?\n",
        "Word2vec adalah salah satu metode embedding word yang berguna untuk merepresentasikan kata menjadi sebuah vektor dengan panjang N. Misalnya sebuah kata “Indonesia” di representasikan menjadi sebuah vektor dengan panjang 5 yaitu : [0.2, 0.4, -0.8, 0.9, -0.5]. Vektor tersebut tidak hanya merepresentasikan kata secara sintaktik tapi juga secara semantik atau secara makna.\n",
        "\n",
        "Sebagai contoh, apabila word2vec di train menggunakan korpus yang cukup lengkap, maka vektor representasi dari kata “Indonesia” akan berdekatan dengan vektor “Jakarta” sebagaimana vektor “Perancis” akan berdekatan dengan vektor “Paris”. Dengan kata lain, model word2vec akan memahami bahwa “Indonesia” dan “Jakarta memiliki hubungan yang sama dengan “Perancis” dan “Paris” yaitu negara dan ibukotanya.\n",
        "\n",
        "![1_cFtPUE7k7C58m90x1dPePg.png](attachment:1_cFtPUE7k7C58m90x1dPePg.png)"
      ]
    },
    {
      "cell_type": "markdown",
      "metadata": {
        "id": "pCc51mQPAfPe"
      },
      "source": [
        "#### Bagaimana cara kerja Word2Vec?\n",
        "Word2Vec menggunakan neural network untuk mendapatkan vektor tersebut. Arsitektur Word2vec hanya terdiri dari 3 layer yaitu Input, Projection (Hidden Layer),dan Output. Input pada Word2vec berbentuk one-hot encoded vector dengan panjang = jumlah kata unik pada data training.\n",
        "\n",
        "Terdapat 2 jenis arsitektur neural network dari Word2Vec yaitu “Skip-gram” dan “Continous Bag of Word” (CBOW).\n",
        "\n",
        "![2_yuMyr323aSnzivITzCSt_g.png](attachment:2_yuMyr323aSnzivITzCSt_g.png)"
      ]
    },
    {
      "cell_type": "markdown",
      "metadata": {
        "id": "ibuMrjlZAfPf"
      },
      "source": [
        "Tujuan dari arsitektur skip-gram adalah untuk memprediksi konteks (output) di sekitar current word (input). Untuk memahaminya mari kita lihat ilustrasi berikut.\n",
        "\n",
        "Misal data trainingnya adalah sebuah kalimat “Ibu kota Negara Indonesia adalah Jakarta” dengan window size = 2\n",
        "\n",
        "##### Ilustrasi Windowing Skip-gram\n",
        "\n",
        "![3_b_7V7TbQYtaabmgVGshBIg.gif](attachment:3_b_7V7TbQYtaabmgVGshBIg.gif)"
      ]
    },
    {
      "cell_type": "markdown",
      "metadata": {
        "id": "nklnWG3PAfPf"
      },
      "source": [
        "#### Ilustrasi Neural Network Skip-gram\n",
        "![4_JSxmmxktQvq5UaHPiy3G0g.gif](attachment:4_JSxmmxktQvq5UaHPiy3G0g.gif)\n",
        "\n",
        "Data input berbentuk one-hot encoded vector sehingga bentuk datanya adalah seperti berikut (anggap seluruh data di lowercase terlebih dahulu):\n",
        "\n",
        "- ibu          :[1,0,0,0,0,0]\n",
        "- kota         :[0,1,0,0,0,0]\n",
        "- negara       :[0,0,1,0,0,0]\n",
        "- indonesia    :[0,0,0,1,0,0]\n",
        "- adalah       :[0,0,0,0,1,0]\n",
        "- jakarta      :[0,0,0,0,0,1]"
      ]
    },
    {
      "cell_type": "markdown",
      "metadata": {
        "id": "fd0Q8639AfPf"
      },
      "source": [
        "Misal current word = Indonesia, maka ilustrasinya adalah sebagai berikut (Feed forward Neural Network Skip-gram\n",
        ") :\n",
        "\n",
        "![5_9ZqoCa5VDyPrzhaYarQKxw.png](attachment:5_9ZqoCa5VDyPrzhaYarQKxw.png)"
      ]
    },
    {
      "cell_type": "markdown",
      "metadata": {
        "id": "GFejjVXdAfPf"
      },
      "source": [
        "Inisialisasi bobot pada W dan W’ adalah random. Bobot W dan W’ merupakan matrik dengan ukuran W = V x N dan W’ = N x V. Pada proses feedforward, vektor input akan di dot product dengan bobot W dan menghasilkan nilai pada layer projection. Kemudian layer projection di dot product dengan bobot W’ dan menghasilkan vektor output. Setelah mendapatkan nilai output pada tahap feedforward, maka akan dihitung nilai eror nya dengan menggunakan metode cross entropy yaitu Target - Output. Selanjutnya adalah tahap backpropagation dengan memanfaatkan teknik gradient descent yaitu dengan melakukan update bobot W dan W’. Proses ini akan diulang kembali ke tahap feedforward hingga tercapai nilai eror minimum.\n",
        "\n",
        "Setelah didapatkan nilai eror minimum pada cross entropy, maka vektor yang merepresentasikan kata tersebut diambil dari bobot W dengan cara mengalikan dot product antara one-hot encoded vector masing-masing kata dengan bobot W, sedangkan bobot pada W’ akan diabaikan."
      ]
    },
    {
      "cell_type": "markdown",
      "metadata": {
        "id": "Emnwnx-mAfPf"
      },
      "source": [
        "#### Continous Bag of Word (CBOW)\n",
        "\n",
        "Arsitektur Word2vec CBOW\n",
        "![6_dyaCy5RHz1E8-ToDTuz6bw.png](attachment:6_dyaCy5RHz1E8-ToDTuz6bw.png)"
      ]
    },
    {
      "cell_type": "markdown",
      "metadata": {
        "id": "wJgMswhGAfPf"
      },
      "source": [
        "Arsitektur Word2Vec CBOW adalah kebalikan dari Word2vec skip-gram. Tujuannya adalah untuk memprediksi kata (output) ketika diberikan konteks disekitar kata tersebut (input). Berikut ini adalah ilustrasinya.\n",
        "\n",
        "Saya menggunakan kalimat yang sama dengan yang dicontohkan sebelumnya yaitu kalimat “Ibu kota Negara Indonesia adalah Jakarta”\n",
        "\n",
        "Ilustrasi Windowing CBOW:\n",
        "\n",
        "![7_Ctq9tsfV3U-2ZS-hf266VA.gif](attachment:7_Ctq9tsfV3U-2ZS-hf266VA.gif)\n",
        "\n",
        "Ilustrasi Neural Network CBOW\n",
        "\n"
      ]
    },
    {
      "cell_type": "markdown",
      "metadata": {
        "id": "kvaEGjRTAfPf"
      },
      "source": [
        "![8_ys5PY7M3i0zqqDkYZEgKsg.gif](attachment:8_ys5PY7M3i0zqqDkYZEgKsg.gif)\n",
        "\n",
        "Data input Word2Vec Skip-gram berbentuk n-hot encoded vector. Ketika proses training berjalan, kata yang sedang menjadi inputan akan bernilai 1 sedangkan kata yang lainnya akan bernilai 0. Karena targetnya hanya 1 kata, maka target output akan berbentuk one-hot encoded vector.\n",
        "\n",
        "Berikut ini ilustrasi ketika target outputnya adalah kata “Indonesia”"
      ]
    },
    {
      "cell_type": "markdown",
      "metadata": {
        "id": "WeokC9gtAfPf"
      },
      "source": [
        "Ilustrasi Feedforward Word2vec CBOW\n",
        "\n",
        "\n",
        "![9_4JpkuWJjnr2lti9SeLDesw.jpeg](attachment:9_4JpkuWJjnr2lti9SeLDesw.jpeg)"
      ]
    },
    {
      "cell_type": "markdown",
      "metadata": {
        "id": "eztHOJaGAfPf"
      },
      "source": [
        "Prosesnya tidak jauh berbeda dengan arsitektur Skip-gram. Perbedaannya hanya terletak pada data inputnya yang berupa n-hot encoded vector dan target outputnya berupa one-hot encoded vector.\n",
        "\n",
        "Setelah dilakukan training hingga mencapai eror minimum, maka kita dapat mengambil vektor representasi kata dengan cara mengalikan one-hot encoded vector masing masing kata dengan bobot W."
      ]
    },
    {
      "cell_type": "markdown",
      "metadata": {
        "id": "FaNFeVS_AfPf"
      },
      "source": [
        "##### Contoh Kasus\n",
        "\n",
        "Misal kita memiliki sebuah kalimat “Kucing melihat seekor tikus, kucing mengejar tikus, tikus berlari keluar rumah” korpus kosakata dalam kalimat tersebut memiliki delapan kata, selanjutnya disusun berdasarkan urutan abjad, masing-masing kata diberi indeks\n",
        "\n",
        "Kosakata (Indeks)\n",
        "\n",
        "- Berlari (1)\n",
        "- Keluar (2)\n",
        "- Kucing (3)\n",
        "- Melihat (4)\n",
        "- Mengejar (5)\n",
        "- Rumah\t(6)\n",
        "- Seekor (7)\n",
        "- Tikus\t(8)"
      ]
    },
    {
      "cell_type": "markdown",
      "metadata": {
        "id": "yWLSbaqbAfPf"
      },
      "source": [
        "Dalam Tabel 2 jaringan syaraf memiliki delapan neuron input dan delapan neuron output. Asumsikan bahwa akan digunakan tiga neuron pada hidden layer. Hal ini akan membentu matriks W1 = 8×3 dan W0 = 3×8. Sebelum memulai pelatihan, matriks ini akan diinisialisasi sebagai nilai acak yang kecil seperti biasa dalam pelatihan jaringan syaraf tiruan. Nilai W1 dan W0 dapat diinisialisasikan sebagai berikut:\n",
        "\n",
        "![10-word2vec-process1.jpg](attachment:10-word2vec-process1.jpg)"
      ]
    },
    {
      "cell_type": "markdown",
      "metadata": {
        "id": "m8thtSWLAfPf"
      },
      "source": [
        "Misalkan jaringan akan mempelajari hubungan antara kata “keluar” dengan kata “melihat”. Maka jaringan harus menunjukkan probabilitas tinggi terhadap kata “melihat” saat kata “keluar” dimasukkan dalam jaringan. Secara terminologi word embedding, kata “keluar” disebut konteks dan kata “melihat” disebut sebagai sasaran kata. Diasumsikan vektor input pada kata “keluar” akan dikodekan menjadi [01000000], indeks kedua bernilai 1, hal ini karena kata input “keluar” berada pada posisi kedua dalam daftar korpus kata. Sementara kata “melihat” yang menjadi target dikodekan menjadi [00010000]. Dengan input vektor dari kata “keluar”, output pada hidden layer neuron dapat dihitung dengan persamaan 1\n",
        "\n",
        "![11-word2vec-process2.jpg](attachment:11-word2vec-process2.jpg)"
      ]
    },
    {
      "cell_type": "markdown",
      "metadata": {
        "id": "CXNH_bjmAfPf"
      },
      "source": [
        "Sebagaimana H adalah hidden layer, X adalah neuron input sebelumnya dan W1 adalah bobot, output dari hidden neuron yaitu H yang direpresentasikan dari baris kedua matriks W1. Hal ini karena input yang diberikan ke jaringan dikodekan menggunakan representasi “1-out of-V”. Sehingga hanya satu baris masukkan yang mempunyai nilai satu dan sisanya untuk jalur input diatur ke nol. Dengan demikian fungsi input ke koneksi hidden layer yaitu menyalin vektor input kata ke hidden layer, kemudian untuk outputnya hidden layer diperoleh pada persamaan 2.\n",
        "\n",
        "![12-word2vec-process3.jpg](attachment:12-word2vec-process3.jpg)"
      ]
    },
    {
      "cell_type": "markdown",
      "metadata": {
        "id": "Cup8l3bGAfPf"
      },
      "source": [
        "Setelah itu untuk menghasilkan probabilitas kata, Word2vec menggunakan fungsi Softmax dalam lapisan output, maka probabilitas dari delapan kata dalam korpus dapat dihitung menggunakan persamaan 3.\n",
        "\n",
        "![13-word2vec-process4.jpg](attachment:13-word2vec-process4.jpg)"
      ]
    },
    {
      "cell_type": "markdown",
      "metadata": {
        "id": "Cl0qaq7zAfPf"
      },
      "source": [
        "Dengan demikian probabilitas dari delapan kata dalam korpus menghasilkan\n",
        "\n",
        "![14-word2vec-process5.jpg](attachment:14-word2vec-process5.jpg)"
      ]
    },
    {
      "cell_type": "markdown",
      "metadata": {
        "id": "lxcNOTuOAfPf"
      },
      "source": [
        "Nilai yang dicetak tebal merupakan hasil probabilitas kata “melihat” mengingat vektor sasaran berada pada indeks keempat [00010000] dalam korpus kata. Kesalahan vektor untuk output layer dapat dihitung dalam mengurangkan vektor probabilitas dengan vektor sasaran. Setelah diketahui tingkat kesalahan, bobot pada matriks W1 dan W0 dapat diperbarui menggunakan backpropagation. Setelah ini, pelatihan dapat diteruskan terhadap berbagai pasangangan konteks-target kata dari korpus."
      ]
    }
  ],
  "metadata": {
    "colab": {
      "provenance": []
    },
    "kernelspec": {
      "display_name": "Python 3 (ipykernel)",
      "language": "python",
      "name": "python3"
    },
    "language_info": {
      "codemirror_mode": {
        "name": "ipython",
        "version": 3
      },
      "file_extension": ".py",
      "mimetype": "text/x-python",
      "name": "python",
      "nbconvert_exporter": "python",
      "pygments_lexer": "ipython3",
      "version": "3.9.5"
    }
  },
  "nbformat": 4,
  "nbformat_minor": 0
}